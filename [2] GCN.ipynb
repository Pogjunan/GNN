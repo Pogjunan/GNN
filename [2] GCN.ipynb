{
 "cells": [
  {
   "cell_type": "markdown",
   "id": "7410998c-7572-4c01-b325-003cb4ebba99",
   "metadata": {},
   "source": [
    "# GCN"
   ]
  },
  {
   "cell_type": "markdown",
   "id": "4e4fdba7-358b-4e8e-9ade-b492e394fa70",
   "metadata": {},
   "source": [
    "논문 위치 : https://thejb.ai/gcn/"
   ]
  },
  {
   "cell_type": "markdown",
   "id": "a3dd4c60-e9f2-40f6-b1f0-cddb4c61e0cd",
   "metadata": {},
   "source": [
    "# 제목\n",
    "## Semi-Supervised Classification With Graph Convolutional Networks"
   ]
  },
  {
   "cell_type": "markdown",
   "id": "aa567676-1b6c-4296-84d4-9eaa81112b30",
   "metadata": {},
   "source": [
    "## abstract"
   ]
  },
  {
   "cell_type": "markdown",
   "id": "21014842-b6b5-4604-9c89-9bd2548731cb",
   "metadata": {},
   "source": [
    "\n",
    "`graph-structured\n",
    "data` 에 대한 semi-supervised learning을 위한 확장 가능한 접근 방법을 제시합니다. 이 방법은 그래프 직접 작동시키는 `효율적인 변형`을 한 컨볼루션 신경망(CNN)을 기반으로 합니다. \n",
    "\n",
    "<br>\n",
    "\n",
    "We motivate the choice of our convolutional architecture via a localized first-order approximation of `spectral graph convolutions`.\n",
    "\n",
    "이 논문은 스펙트럴 그래프 컨볼루션의 localized 된 1차 근사에 기반하여 컨볼루션 아키텍처를 선택하게되었다. <br>\n",
    "-> 스펙트럴 그래프 컨볼루젼이 뭐지?\n",
    "https://tootouch.github.io/research/spectral_gcn/\n",
    "<br>\n",
    "스펙트럼적인 그래프 컨볼루젼.\n",
    "<br>\n",
    "이미지나 음성데이터에서 스펙트럼식으로 표현되어 스펙트럴 이라는 단어를 사용하게 된다. 앞으로 spectral graph convolutions 에 대해서 알려줄 것 같아 보인다."
   ]
  },
  {
   "cell_type": "markdown",
   "id": "f36bb382-e396-4caf-a47c-edd609d55964",
   "metadata": {},
   "source": [
    " 사용한 모델은 그래프 엣지의 수에 선형적으로 확장되며, 로컬 그래프 구조와 노드의 특성을 모두 인코딩하는 히 레이어 표현을 학습합니다. 인용 네트워크(citation networks) 및 `knowledge graph dataset` 에서 수행한 여러 실험에서 우리의 접근 방식이 다른 방법들보다 우수한 성능을 보여줍니다.(significant margin)"
   ]
  },
  {
   "cell_type": "markdown",
   "id": "ee67196f-0d39-4a4a-b5b6-e23d3ceca4c9",
   "metadata": {},
   "source": [
    "citation graph(=citation network) <br>\n",
    "https://en.wikipedia.org/wiki/Citation_graph\n",
    "<br>\n",
    "\n",
    "citation graph : a directed graph that describes the citations within a collection of documents.\n",
    "\n",
    "<br>\n",
    "knowledge graph <br>\n",
    "https://dining-developer.tistory.com/64 <br>\n",
    "\n",
    "지식 그래프(Knowlege Graph)는 개체, 사건 또는 개념과 같은 실체에 대한 상호 연결된 설명 모음을 뜻한다. KG는 실세계의 객체 및 사건 또는 추상 개념(예를 들면 문서)과 같은 실체에 대한 상호 연결된 설명의 모음을 나타낸다."
   ]
  },
  {
   "cell_type": "markdown",
   "id": "78a763bc-10e1-489c-93ef-56697439fd65",
   "metadata": {},
   "source": [
    "데이터베이스 : 구조화된 쿼리(structured query)를 통해  데이터를 탐색 <br>\n",
    "그래프 : 네트워크 데이터 구조로 분석 <br>\n",
    "\n",
    "지식 베이스(Knowledge base) : 데이터를 해석하고 새로운 사실을 추론하는 데 사용할 수 있는 형식적 의미론을 포함 <br>"
   ]
  },
  {
   "cell_type": "code",
   "execution_count": null,
   "id": "788fc92e-dbaf-4ab2-90b3-6158c693f484",
   "metadata": {},
   "outputs": [],
   "source": []
  }
 ],
 "metadata": {
  "kernelspec": {
   "display_name": "deep",
   "language": "python",
   "name": "deep"
  },
  "language_info": {
   "codemirror_mode": {
    "name": "ipython",
    "version": 3
   },
   "file_extension": ".py",
   "mimetype": "text/x-python",
   "name": "python",
   "nbconvert_exporter": "python",
   "pygments_lexer": "ipython3",
   "version": "3.10.13"
  }
 },
 "nbformat": 4,
 "nbformat_minor": 5
}
