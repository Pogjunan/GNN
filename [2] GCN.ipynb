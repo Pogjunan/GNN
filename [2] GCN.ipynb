{
 "cells": [
  {
   "cell_type": "markdown",
   "id": "7410998c-7572-4c01-b325-003cb4ebba99",
   "metadata": {},
   "source": [
    "# GCN"
   ]
  },
  {
   "cell_type": "markdown",
   "id": "4e4fdba7-358b-4e8e-9ade-b492e394fa70",
   "metadata": {},
   "source": [
    "논문 위치 : https://thejb.ai/gcn/"
   ]
  },
  {
   "cell_type": "markdown",
   "id": "a3dd4c60-e9f2-40f6-b1f0-cddb4c61e0cd",
   "metadata": {},
   "source": [
    "# 제목\n",
    "## Semi-Supervised Classification With Graph Convolutional Networks"
   ]
  },
  {
   "cell_type": "code",
   "execution_count": null,
   "id": "6363f099-1426-4607-a12b-cf86d50b27df",
   "metadata": {},
   "outputs": [],
   "source": []
  }
 ],
 "metadata": {
  "kernelspec": {
   "display_name": "deep",
   "language": "python",
   "name": "deep"
  },
  "language_info": {
   "codemirror_mode": {
    "name": "ipython",
    "version": 3
   },
   "file_extension": ".py",
   "mimetype": "text/x-python",
   "name": "python",
   "nbconvert_exporter": "python",
   "pygments_lexer": "ipython3",
   "version": "3.10.13"
  }
 },
 "nbformat": 4,
 "nbformat_minor": 5
}
